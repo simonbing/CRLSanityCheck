{
 "cells": [
  {
   "cell_type": "code",
   "execution_count": 6,
   "metadata": {
    "collapsed": true,
    "ExecuteTime": {
     "end_time": "2025-01-15T11:26:46.389147Z",
     "start_time": "2025-01-15T11:26:46.385928Z"
    }
   },
   "outputs": [],
   "source": [
    "import numpy as np\n",
    "from sempler import LGANM"
   ]
  },
  {
   "cell_type": "code",
   "execution_count": 7,
   "outputs": [],
   "source": [
    "# Set random state\n",
    "rs = np.random.RandomState(seed=42)"
   ],
   "metadata": {
    "collapsed": false,
    "ExecuteTime": {
     "end_time": "2025-01-15T11:26:46.730630Z",
     "start_time": "2025-01-15T11:26:46.726430Z"
    }
   }
  },
  {
   "cell_type": "markdown",
   "source": [
    "First, define the SCM from which to sample. For the noise variances we sample from the same interval as the original paper."
   ],
   "metadata": {
    "collapsed": false
   }
  },
  {
   "cell_type": "code",
   "execution_count": 8,
   "outputs": [],
   "source": [
    "d = 5  # nr. of latent dims\n",
    "\n",
    "W = np.array([[0.0, 0.0, 0.0, 0.0, 0.0],\n",
    "              [0.71943922, 0.0, 0.0, 0.0, 0.67726298],\n",
    "              [0.0, 0.89303215, 0.0, 0.0, 0.98534901],\n",
    "              [0.84868401, 0.0, 0.0, 0.0, 0.0],\n",
    "              [0.0, 0.0, 0.0, 0.0, 0.0]])\n",
    "\n",
    "variances_obs = rs.uniform(1.0, 2.0, size=d)\n",
    "\n",
    "lganm = LGANM(W=W, means=np.zeros(d), variances=variances_obs, random_state=42)"
   ],
   "metadata": {
    "collapsed": false,
    "ExecuteTime": {
     "end_time": "2025-01-15T11:26:47.607946Z",
     "start_time": "2025-01-15T11:26:47.606300Z"
    }
   }
  },
  {
   "cell_type": "markdown",
   "source": [
    "Next, get the samples from the observational distribution. We get their mean and std_dev for later scaling"
   ],
   "metadata": {
    "collapsed": false
   }
  },
  {
   "cell_type": "code",
   "execution_count": 9,
   "outputs": [],
   "source": [
    "n = 10000  # nr. of samples per env.\n",
    "\n",
    "obs_samples = lganm.sample(n)\n",
    "means = np.mean(obs_samples, axis=0, keepdims=True)\n",
    "stds = np.std(obs_samples, axis=0, keepdims=True)\n",
    "\n",
    "obs_samples = (obs_samples - means) / stds\n",
    "\n",
    "Z_obs = np.tile(obs_samples, (d, 1))"
   ],
   "metadata": {
    "collapsed": false,
    "ExecuteTime": {
     "end_time": "2025-01-15T11:26:48.822586Z",
     "start_time": "2025-01-15T11:26:48.762527Z"
    }
   }
  },
  {
   "cell_type": "markdown",
   "source": [
    "Now, sample from the interventional distributions. The mean and variances of the do-interventions are again sampled from the same intervals as in the original paper. We also apply the sign random sign flipping to the interventional means as the authors do."
   ],
   "metadata": {
    "collapsed": false
   }
  },
  {
   "cell_type": "code",
   "execution_count": 10,
   "outputs": [],
   "source": [
    "means_iv = rs.uniform(1.0, 2.0, size=d)\n",
    "mask = rs.binomial(n=1, p=0.5, size=means_iv.size).reshape(means_iv.shape)\n",
    "means_iv = means_iv - 2 * mask * means_iv\n",
    "\n",
    "variances_iv = rs.uniform(1.0, 2.0, size=d)\n",
    "\n",
    "iv_samples = []\n",
    "iv_targets = []\n",
    "for i in range(d):\n",
    "    samples = lganm.sample(n, do_interventions={i: (means_iv[i], variances_iv[i])})\n",
    "    iv_samples.append(samples)\n",
    "    iv_targets.append(i * np.ones(n, dtype=np.int_))\n",
    "\n",
    "Z_iv = np.concatenate(iv_samples, axis=0)\n",
    "\n",
    "# Rescale using the same factors as the observational data\n",
    "Z_iv = (Z_iv - means) / stds"
   ],
   "metadata": {
    "collapsed": false,
    "ExecuteTime": {
     "end_time": "2025-01-15T11:26:50.226387Z",
     "start_time": "2025-01-15T11:26:50.217745Z"
    }
   }
  },
  {
   "cell_type": "markdown",
   "source": [
    "The latents are now clipped to an interval of 4 std devs around 0 in order to enable their rescaling to the correct intervals for the chamber actuators."
   ],
   "metadata": {
    "collapsed": false
   }
  },
  {
   "cell_type": "code",
   "execution_count": 11,
   "outputs": [],
   "source": [
    "Z_obs = np.clip(Z_obs, a_min=-4, a_max=4)\n",
    "Z_iv = np.clip(Z_iv, a_min=-4, a_max=4)\n",
    "\n",
    "# Apply rescaling (that expects 4 std_devs around 0 of clipping interval)\n",
    "scales_up = np.array([[255/8, 255/8, 255/8, 90/4, 90/4]])\n",
    "shifts_up = np.array([[127.5, 127.5, 127.5, 0, 0]])\n",
    "\n",
    "Z_obs_rescale = Z_obs * scales_up + shifts_up\n",
    "Z_iv_rescale = Z_iv * scales_up + shifts_up"
   ],
   "metadata": {
    "collapsed": false,
    "ExecuteTime": {
     "end_time": "2025-01-15T11:26:51.277029Z",
     "start_time": "2025-01-15T11:26:51.272570Z"
    }
   }
  }
 ],
 "metadata": {
  "kernelspec": {
   "display_name": "Python 3",
   "language": "python",
   "name": "python3"
  },
  "language_info": {
   "codemirror_mode": {
    "name": "ipython",
    "version": 2
   },
   "file_extension": ".py",
   "mimetype": "text/x-python",
   "name": "python",
   "nbconvert_exporter": "python",
   "pygments_lexer": "ipython2",
   "version": "2.7.6"
  }
 },
 "nbformat": 4,
 "nbformat_minor": 0
}
