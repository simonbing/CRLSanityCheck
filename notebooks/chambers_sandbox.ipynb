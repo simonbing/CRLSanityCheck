{
 "cells": [
  {
   "cell_type": "code",
   "execution_count": 1,
   "metadata": {
    "collapsed": true,
    "ExecuteTime": {
     "end_time": "2024-07-19T15:11:56.583448Z",
     "start_time": "2024-07-19T15:11:56.086529Z"
    }
   },
   "outputs": [
    {
     "name": "stdout",
     "output_type": "stream",
     "text": [
      "\n",
      "Fetching list of available datasets from https://causalchamber.s3.eu-central-1.amazonaws.com/downloadables/directory.yaml ... done.\n",
      "If you use our datasets or models for your work please consider citing:\n",
      "\n",
      "@article{gamella2024chamber,\n",
      "  title={The Causal Chambers: Real Physical Systems as a Testbed for AI Methodology},\n",
      "  author={Gamella, Juan L. and B\"uhlmann, Peter and Peters, Jonas},\n",
      "  journal={arXiv preprint arXiv:2404.11341},\n",
      "  year={2024}\n",
      "}\n",
      "\n"
     ]
    }
   ],
   "source": [
    "import numpy as np\n",
    "\n",
    "from causalchamber.datasets import Dataset"
   ]
  },
  {
   "cell_type": "code",
   "execution_count": 2,
   "outputs": [
    {
     "name": "stdout",
     "output_type": "stream",
     "text": [
      "Dataset lt_camera_v1 found in \"../data/chamber_downloads/lt_camera_v1\".\n"
     ]
    }
   ],
   "source": [
    "scm_dataset = Dataset('lt_camera_v1', root='../data/chamber_downloads', download=True)"
   ],
   "metadata": {
    "collapsed": false,
    "ExecuteTime": {
     "end_time": "2024-07-19T15:11:57.913696Z",
     "start_time": "2024-07-19T15:11:57.884948Z"
    }
   }
  },
  {
   "cell_type": "code",
   "execution_count": 3,
   "outputs": [],
   "source": [
    "scm_exp_obs =scm_dataset.get_experiment(name='scm_1_reference')\n",
    "scm_obs_df = scm_exp_obs.as_pandas_dataframe()"
   ],
   "metadata": {
    "collapsed": false,
    "ExecuteTime": {
     "end_time": "2024-07-19T15:12:00.259857Z",
     "start_time": "2024-07-19T15:12:00.243844Z"
    }
   }
  },
  {
   "cell_type": "code",
   "execution_count": 4,
   "outputs": [
    {
     "data": {
      "text/plain": "   timestamp  config  counter    flag  intervention    red  green   blue  \\\n0  80.551426  camera      0.0 -9999.0           1.0  162.0  136.0  140.0   \n1  82.877679  camera      1.0 -9999.0           1.0  232.0  202.0  214.0   \n2  85.127456  camera      2.0 -9999.0           1.0  208.0  116.0  166.0   \n3  87.808788  camera      3.0 -9999.0           1.0   44.0  134.0  124.0   \n4  89.754223  camera      4.0 -9999.0           1.0    7.0   60.0  123.0   \n\n   osr_c  v_c  ...  t_vis_3  camera  v_board  v_reg  aperture    iso  \\\n0    1.0  5.0  ...      3.0     1.0   1023.0  705.0       1.8  500.0   \n1    1.0  5.0  ...      3.0     1.0   1023.0  739.0       1.8  500.0   \n2    1.0  5.0  ...      3.0     1.0   1023.0  756.0       1.8  500.0   \n3    1.0  5.0  ...      3.0     1.0   1023.0  739.0       1.8  500.0   \n4    1.0  5.0  ...      3.0     1.0   1023.0  764.0       1.8  500.0   \n\n   shutter_speed      image_file  image_timestamp  brightness_value  \n0          0.005  1719348114.jpg       1719348114         -0.463281  \n1          0.005  1719348116.jpg       1719348116          1.837500  \n2          0.005  1719348119.jpg       1719348119          1.286719  \n3          0.005  1719348121.jpg       1719348121          0.345313  \n4          0.005  1719348123.jpg       1719348123         -2.182031  \n\n[5 rows x 52 columns]",
      "text/html": "<div>\n<style scoped>\n    .dataframe tbody tr th:only-of-type {\n        vertical-align: middle;\n    }\n\n    .dataframe tbody tr th {\n        vertical-align: top;\n    }\n\n    .dataframe thead th {\n        text-align: right;\n    }\n</style>\n<table border=\"1\" class=\"dataframe\">\n  <thead>\n    <tr style=\"text-align: right;\">\n      <th></th>\n      <th>timestamp</th>\n      <th>config</th>\n      <th>counter</th>\n      <th>flag</th>\n      <th>intervention</th>\n      <th>red</th>\n      <th>green</th>\n      <th>blue</th>\n      <th>osr_c</th>\n      <th>v_c</th>\n      <th>...</th>\n      <th>t_vis_3</th>\n      <th>camera</th>\n      <th>v_board</th>\n      <th>v_reg</th>\n      <th>aperture</th>\n      <th>iso</th>\n      <th>shutter_speed</th>\n      <th>image_file</th>\n      <th>image_timestamp</th>\n      <th>brightness_value</th>\n    </tr>\n  </thead>\n  <tbody>\n    <tr>\n      <th>0</th>\n      <td>80.551426</td>\n      <td>camera</td>\n      <td>0.0</td>\n      <td>-9999.0</td>\n      <td>1.0</td>\n      <td>162.0</td>\n      <td>136.0</td>\n      <td>140.0</td>\n      <td>1.0</td>\n      <td>5.0</td>\n      <td>...</td>\n      <td>3.0</td>\n      <td>1.0</td>\n      <td>1023.0</td>\n      <td>705.0</td>\n      <td>1.8</td>\n      <td>500.0</td>\n      <td>0.005</td>\n      <td>1719348114.jpg</td>\n      <td>1719348114</td>\n      <td>-0.463281</td>\n    </tr>\n    <tr>\n      <th>1</th>\n      <td>82.877679</td>\n      <td>camera</td>\n      <td>1.0</td>\n      <td>-9999.0</td>\n      <td>1.0</td>\n      <td>232.0</td>\n      <td>202.0</td>\n      <td>214.0</td>\n      <td>1.0</td>\n      <td>5.0</td>\n      <td>...</td>\n      <td>3.0</td>\n      <td>1.0</td>\n      <td>1023.0</td>\n      <td>739.0</td>\n      <td>1.8</td>\n      <td>500.0</td>\n      <td>0.005</td>\n      <td>1719348116.jpg</td>\n      <td>1719348116</td>\n      <td>1.837500</td>\n    </tr>\n    <tr>\n      <th>2</th>\n      <td>85.127456</td>\n      <td>camera</td>\n      <td>2.0</td>\n      <td>-9999.0</td>\n      <td>1.0</td>\n      <td>208.0</td>\n      <td>116.0</td>\n      <td>166.0</td>\n      <td>1.0</td>\n      <td>5.0</td>\n      <td>...</td>\n      <td>3.0</td>\n      <td>1.0</td>\n      <td>1023.0</td>\n      <td>756.0</td>\n      <td>1.8</td>\n      <td>500.0</td>\n      <td>0.005</td>\n      <td>1719348119.jpg</td>\n      <td>1719348119</td>\n      <td>1.286719</td>\n    </tr>\n    <tr>\n      <th>3</th>\n      <td>87.808788</td>\n      <td>camera</td>\n      <td>3.0</td>\n      <td>-9999.0</td>\n      <td>1.0</td>\n      <td>44.0</td>\n      <td>134.0</td>\n      <td>124.0</td>\n      <td>1.0</td>\n      <td>5.0</td>\n      <td>...</td>\n      <td>3.0</td>\n      <td>1.0</td>\n      <td>1023.0</td>\n      <td>739.0</td>\n      <td>1.8</td>\n      <td>500.0</td>\n      <td>0.005</td>\n      <td>1719348121.jpg</td>\n      <td>1719348121</td>\n      <td>0.345313</td>\n    </tr>\n    <tr>\n      <th>4</th>\n      <td>89.754223</td>\n      <td>camera</td>\n      <td>4.0</td>\n      <td>-9999.0</td>\n      <td>1.0</td>\n      <td>7.0</td>\n      <td>60.0</td>\n      <td>123.0</td>\n      <td>1.0</td>\n      <td>5.0</td>\n      <td>...</td>\n      <td>3.0</td>\n      <td>1.0</td>\n      <td>1023.0</td>\n      <td>764.0</td>\n      <td>1.8</td>\n      <td>500.0</td>\n      <td>0.005</td>\n      <td>1719348123.jpg</td>\n      <td>1719348123</td>\n      <td>-2.182031</td>\n    </tr>\n  </tbody>\n</table>\n<p>5 rows × 52 columns</p>\n</div>"
     },
     "execution_count": 4,
     "metadata": {},
     "output_type": "execute_result"
    }
   ],
   "source": [
    "scm_obs_df.head()"
   ],
   "metadata": {
    "collapsed": false,
    "ExecuteTime": {
     "end_time": "2024-07-19T15:12:02.694829Z",
     "start_time": "2024-07-19T15:12:02.677026Z"
    }
   }
  },
  {
   "cell_type": "code",
   "execution_count": 8,
   "outputs": [],
   "source": [
    "bla = scm_obs_df[['red', 'green', 'blue']].iloc[7]"
   ],
   "metadata": {
    "collapsed": false,
    "ExecuteTime": {
     "end_time": "2024-07-19T15:13:57.201596Z",
     "start_time": "2024-07-19T15:13:57.197208Z"
    }
   }
  },
  {
   "cell_type": "code",
   "execution_count": 9,
   "outputs": [
    {
     "data": {
      "text/plain": "red       79.0\ngreen    100.0\nblue     122.0\nName: 7, dtype: float64"
     },
     "execution_count": 9,
     "metadata": {},
     "output_type": "execute_result"
    }
   ],
   "source": [
    "bla"
   ],
   "metadata": {
    "collapsed": false,
    "ExecuteTime": {
     "end_time": "2024-07-19T15:14:02.020852Z",
     "start_time": "2024-07-19T15:14:02.016927Z"
    }
   }
  },
  {
   "cell_type": "code",
   "execution_count": 13,
   "outputs": [],
   "source": [
    "scm_exp_iv =scm_dataset.get_experiment(name='scm_1_red')\n",
    "scm_iv_df = scm_exp_iv.as_pandas_dataframe()"
   ],
   "metadata": {
    "collapsed": false,
    "ExecuteTime": {
     "end_time": "2024-07-15T14:22:23.700781Z",
     "start_time": "2024-07-15T14:22:23.661476Z"
    }
   }
  },
  {
   "cell_type": "code",
   "execution_count": 14,
   "outputs": [
    {
     "data": {
      "text/plain": "      timestamp  config  counter    flag  intervention    red  green   blue  \\\n0  12659.403295  camera      0.0 -9999.0           1.0  221.0  189.0  112.0   \n1  12661.549293  camera      1.0 -9999.0           1.0  238.0  161.0   85.0   \n2  12663.670882  camera      2.0 -9999.0           1.0  198.0  138.0  101.0   \n3  12665.482484  camera      3.0 -9999.0           1.0  228.0  102.0   87.0   \n4  12668.470874  camera      4.0 -9999.0           1.0  228.0  169.0  191.0   \n\n   osr_c  v_c  ...  t_vis_3  camera  v_board  v_reg  aperture    iso  \\\n0    1.0  5.0  ...      3.0     1.0   1023.0  702.0       1.8  500.0   \n1    1.0  5.0  ...      3.0     1.0   1023.0  727.0       1.8  500.0   \n2    1.0  5.0  ...      3.0     1.0   1023.0  735.0       1.8  500.0   \n3    1.0  5.0  ...      3.0     1.0   1023.0  754.0       1.8  500.0   \n4    1.0  5.0  ...      3.0     1.0   1023.0  712.0       1.8  500.0   \n\n   shutter_speed      image_file  image_timestamp  brightness_value  \n0          0.005  1719360693.jpg       1719360693         -1.603906  \n1          0.005  1719360695.jpg       1719360695          0.900000  \n2          0.005  1719360698.jpg       1719360698         -3.338281  \n3          0.005  1719360699.jpg       1719360699         -3.502344  \n4          0.005  1719360702.jpg       1719360702          1.786719  \n\n[5 rows x 52 columns]",
      "text/html": "<div>\n<style scoped>\n    .dataframe tbody tr th:only-of-type {\n        vertical-align: middle;\n    }\n\n    .dataframe tbody tr th {\n        vertical-align: top;\n    }\n\n    .dataframe thead th {\n        text-align: right;\n    }\n</style>\n<table border=\"1\" class=\"dataframe\">\n  <thead>\n    <tr style=\"text-align: right;\">\n      <th></th>\n      <th>timestamp</th>\n      <th>config</th>\n      <th>counter</th>\n      <th>flag</th>\n      <th>intervention</th>\n      <th>red</th>\n      <th>green</th>\n      <th>blue</th>\n      <th>osr_c</th>\n      <th>v_c</th>\n      <th>...</th>\n      <th>t_vis_3</th>\n      <th>camera</th>\n      <th>v_board</th>\n      <th>v_reg</th>\n      <th>aperture</th>\n      <th>iso</th>\n      <th>shutter_speed</th>\n      <th>image_file</th>\n      <th>image_timestamp</th>\n      <th>brightness_value</th>\n    </tr>\n  </thead>\n  <tbody>\n    <tr>\n      <th>0</th>\n      <td>12659.403295</td>\n      <td>camera</td>\n      <td>0.0</td>\n      <td>-9999.0</td>\n      <td>1.0</td>\n      <td>221.0</td>\n      <td>189.0</td>\n      <td>112.0</td>\n      <td>1.0</td>\n      <td>5.0</td>\n      <td>...</td>\n      <td>3.0</td>\n      <td>1.0</td>\n      <td>1023.0</td>\n      <td>702.0</td>\n      <td>1.8</td>\n      <td>500.0</td>\n      <td>0.005</td>\n      <td>1719360693.jpg</td>\n      <td>1719360693</td>\n      <td>-1.603906</td>\n    </tr>\n    <tr>\n      <th>1</th>\n      <td>12661.549293</td>\n      <td>camera</td>\n      <td>1.0</td>\n      <td>-9999.0</td>\n      <td>1.0</td>\n      <td>238.0</td>\n      <td>161.0</td>\n      <td>85.0</td>\n      <td>1.0</td>\n      <td>5.0</td>\n      <td>...</td>\n      <td>3.0</td>\n      <td>1.0</td>\n      <td>1023.0</td>\n      <td>727.0</td>\n      <td>1.8</td>\n      <td>500.0</td>\n      <td>0.005</td>\n      <td>1719360695.jpg</td>\n      <td>1719360695</td>\n      <td>0.900000</td>\n    </tr>\n    <tr>\n      <th>2</th>\n      <td>12663.670882</td>\n      <td>camera</td>\n      <td>2.0</td>\n      <td>-9999.0</td>\n      <td>1.0</td>\n      <td>198.0</td>\n      <td>138.0</td>\n      <td>101.0</td>\n      <td>1.0</td>\n      <td>5.0</td>\n      <td>...</td>\n      <td>3.0</td>\n      <td>1.0</td>\n      <td>1023.0</td>\n      <td>735.0</td>\n      <td>1.8</td>\n      <td>500.0</td>\n      <td>0.005</td>\n      <td>1719360698.jpg</td>\n      <td>1719360698</td>\n      <td>-3.338281</td>\n    </tr>\n    <tr>\n      <th>3</th>\n      <td>12665.482484</td>\n      <td>camera</td>\n      <td>3.0</td>\n      <td>-9999.0</td>\n      <td>1.0</td>\n      <td>228.0</td>\n      <td>102.0</td>\n      <td>87.0</td>\n      <td>1.0</td>\n      <td>5.0</td>\n      <td>...</td>\n      <td>3.0</td>\n      <td>1.0</td>\n      <td>1023.0</td>\n      <td>754.0</td>\n      <td>1.8</td>\n      <td>500.0</td>\n      <td>0.005</td>\n      <td>1719360699.jpg</td>\n      <td>1719360699</td>\n      <td>-3.502344</td>\n    </tr>\n    <tr>\n      <th>4</th>\n      <td>12668.470874</td>\n      <td>camera</td>\n      <td>4.0</td>\n      <td>-9999.0</td>\n      <td>1.0</td>\n      <td>228.0</td>\n      <td>169.0</td>\n      <td>191.0</td>\n      <td>1.0</td>\n      <td>5.0</td>\n      <td>...</td>\n      <td>3.0</td>\n      <td>1.0</td>\n      <td>1023.0</td>\n      <td>712.0</td>\n      <td>1.8</td>\n      <td>500.0</td>\n      <td>0.005</td>\n      <td>1719360702.jpg</td>\n      <td>1719360702</td>\n      <td>1.786719</td>\n    </tr>\n  </tbody>\n</table>\n<p>5 rows × 52 columns</p>\n</div>"
     },
     "execution_count": 14,
     "metadata": {},
     "output_type": "execute_result"
    }
   ],
   "source": [
    "scm_iv_df.head()"
   ],
   "metadata": {
    "collapsed": false,
    "ExecuteTime": {
     "end_time": "2024-07-15T14:22:25.208705Z",
     "start_time": "2024-07-15T14:22:25.204243Z"
    }
   }
  },
  {
   "cell_type": "code",
   "execution_count": 36,
   "outputs": [
    {
     "data": {
      "text/plain": "      timestamp  config  counter    flag  intervention    red  green   blue  \\\n1  12661.549293  camera      1.0 -9999.0           1.0  238.0  161.0   85.0   \n1  12661.549293  camera      1.0 -9999.0           1.0  238.0  161.0   85.0   \n4  12668.470874  camera      4.0 -9999.0           1.0  228.0  169.0  191.0   \n\n   osr_c  v_c  ...  t_vis_3  camera  v_board  v_reg  aperture    iso  \\\n1    1.0  5.0  ...      3.0     1.0   1023.0  727.0       1.8  500.0   \n1    1.0  5.0  ...      3.0     1.0   1023.0  727.0       1.8  500.0   \n4    1.0  5.0  ...      3.0     1.0   1023.0  712.0       1.8  500.0   \n\n   shutter_speed      image_file  image_timestamp  brightness_value  \n1          0.005  1719360695.jpg       1719360695          0.900000  \n1          0.005  1719360695.jpg       1719360695          0.900000  \n4          0.005  1719360702.jpg       1719360702          1.786719  \n\n[3 rows x 52 columns]",
      "text/html": "<div>\n<style scoped>\n    .dataframe tbody tr th:only-of-type {\n        vertical-align: middle;\n    }\n\n    .dataframe tbody tr th {\n        vertical-align: top;\n    }\n\n    .dataframe thead th {\n        text-align: right;\n    }\n</style>\n<table border=\"1\" class=\"dataframe\">\n  <thead>\n    <tr style=\"text-align: right;\">\n      <th></th>\n      <th>timestamp</th>\n      <th>config</th>\n      <th>counter</th>\n      <th>flag</th>\n      <th>intervention</th>\n      <th>red</th>\n      <th>green</th>\n      <th>blue</th>\n      <th>osr_c</th>\n      <th>v_c</th>\n      <th>...</th>\n      <th>t_vis_3</th>\n      <th>camera</th>\n      <th>v_board</th>\n      <th>v_reg</th>\n      <th>aperture</th>\n      <th>iso</th>\n      <th>shutter_speed</th>\n      <th>image_file</th>\n      <th>image_timestamp</th>\n      <th>brightness_value</th>\n    </tr>\n  </thead>\n  <tbody>\n    <tr>\n      <th>1</th>\n      <td>12661.549293</td>\n      <td>camera</td>\n      <td>1.0</td>\n      <td>-9999.0</td>\n      <td>1.0</td>\n      <td>238.0</td>\n      <td>161.0</td>\n      <td>85.0</td>\n      <td>1.0</td>\n      <td>5.0</td>\n      <td>...</td>\n      <td>3.0</td>\n      <td>1.0</td>\n      <td>1023.0</td>\n      <td>727.0</td>\n      <td>1.8</td>\n      <td>500.0</td>\n      <td>0.005</td>\n      <td>1719360695.jpg</td>\n      <td>1719360695</td>\n      <td>0.900000</td>\n    </tr>\n    <tr>\n      <th>1</th>\n      <td>12661.549293</td>\n      <td>camera</td>\n      <td>1.0</td>\n      <td>-9999.0</td>\n      <td>1.0</td>\n      <td>238.0</td>\n      <td>161.0</td>\n      <td>85.0</td>\n      <td>1.0</td>\n      <td>5.0</td>\n      <td>...</td>\n      <td>3.0</td>\n      <td>1.0</td>\n      <td>1023.0</td>\n      <td>727.0</td>\n      <td>1.8</td>\n      <td>500.0</td>\n      <td>0.005</td>\n      <td>1719360695.jpg</td>\n      <td>1719360695</td>\n      <td>0.900000</td>\n    </tr>\n    <tr>\n      <th>4</th>\n      <td>12668.470874</td>\n      <td>camera</td>\n      <td>4.0</td>\n      <td>-9999.0</td>\n      <td>1.0</td>\n      <td>228.0</td>\n      <td>169.0</td>\n      <td>191.0</td>\n      <td>1.0</td>\n      <td>5.0</td>\n      <td>...</td>\n      <td>3.0</td>\n      <td>1.0</td>\n      <td>1023.0</td>\n      <td>712.0</td>\n      <td>1.8</td>\n      <td>500.0</td>\n      <td>0.005</td>\n      <td>1719360702.jpg</td>\n      <td>1719360702</td>\n      <td>1.786719</td>\n    </tr>\n  </tbody>\n</table>\n<p>3 rows × 52 columns</p>\n</div>"
     },
     "execution_count": 36,
     "metadata": {},
     "output_type": "execute_result"
    }
   ],
   "source": [
    "scm_iv_df.loc[[1,1,4],:]"
   ],
   "metadata": {
    "collapsed": false,
    "ExecuteTime": {
     "end_time": "2024-07-15T14:48:31.799162Z",
     "start_time": "2024-07-15T14:48:31.788852Z"
    }
   }
  },
  {
   "cell_type": "code",
   "execution_count": 38,
   "outputs": [
    {
     "data": {
      "text/plain": "'1719360693.jpg'"
     },
     "execution_count": 38,
     "metadata": {},
     "output_type": "execute_result"
    }
   ],
   "source": [
    "scm_iv_df['image_file'][0]"
   ],
   "metadata": {
    "collapsed": false,
    "ExecuteTime": {
     "end_time": "2024-07-16T09:36:08.160979Z",
     "start_time": "2024-07-16T09:36:08.155323Z"
    }
   }
  },
  {
   "cell_type": "code",
   "execution_count": 20,
   "outputs": [],
   "source": [
    "aaa = np.repeat('0', len(scm_iv_df))"
   ],
   "metadata": {
    "collapsed": false,
    "ExecuteTime": {
     "end_time": "2024-07-15T14:33:13.860691Z",
     "start_time": "2024-07-15T14:33:13.846503Z"
    }
   }
  },
  {
   "cell_type": "code",
   "execution_count": 21,
   "outputs": [
    {
     "data": {
      "text/plain": "array(['0', '0', '0', ..., '0', '0', '0'], dtype='<U1')"
     },
     "execution_count": 21,
     "metadata": {},
     "output_type": "execute_result"
    }
   ],
   "source": [
    "aaa"
   ],
   "metadata": {
    "collapsed": false,
    "ExecuteTime": {
     "end_time": "2024-07-15T14:33:14.009024Z",
     "start_time": "2024-07-15T14:33:14.006270Z"
    }
   }
  },
  {
   "cell_type": "code",
   "execution_count": null,
   "outputs": [],
   "source": [],
   "metadata": {
    "collapsed": false
   }
  }
 ],
 "metadata": {
  "kernelspec": {
   "display_name": "Python 3",
   "language": "python",
   "name": "python3"
  },
  "language_info": {
   "codemirror_mode": {
    "name": "ipython",
    "version": 2
   },
   "file_extension": ".py",
   "mimetype": "text/x-python",
   "name": "python",
   "nbconvert_exporter": "python",
   "pygments_lexer": "ipython2",
   "version": "2.7.6"
  }
 },
 "nbformat": 4,
 "nbformat_minor": 0
}
