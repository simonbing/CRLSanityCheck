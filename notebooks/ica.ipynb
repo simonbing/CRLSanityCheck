{
 "cells": [
  {
   "cell_type": "code",
   "execution_count": 3,
   "metadata": {
    "collapsed": true,
    "ExecuteTime": {
     "end_time": "2024-06-17T09:59:48.973937Z",
     "start_time": "2024-06-17T09:59:48.588291Z"
    }
   },
   "outputs": [
    {
     "name": "stdout",
     "output_type": "stream",
     "text": [
      "\n",
      "Fetching list of available datasets from https://causalchamber.s3.eu-central-1.amazonaws.com/downloadables/directory.yaml ... done.\n",
      "If you use our datasets or models for your work please consider citing:\n",
      "\n",
      "@article{gamella2024chamber,\n",
      "  title={The Causal Chambers: Real Physical Systems as a Testbed for AI Methodology},\n",
      "  author={Gamella, Juan L. and B\"uhlmann, Peter and Peters, Jonas},\n",
      "  journal={arXiv preprint arXiv:2404.11341},\n",
      "  year={2024}\n",
      "}\n",
      "\n"
     ]
    }
   ],
   "source": [
    "import numpy as np\n",
    "\n",
    "from causalchamber.datasets import Dataset\n",
    "from crc.eval import compute_MCC"
   ]
  },
  {
   "cell_type": "code",
   "execution_count": 10,
   "outputs": [
    {
     "name": "stdout",
     "output_type": "stream",
     "text": [
      "Dataset lt_walks_v1 found in \"../data/chamber_downloads/lt_walks_v1\".\n"
     ]
    }
   ],
   "source": [
    "ica_dataset1 = Dataset('lt_walks_v1', root='../data/chamber_downloads', download=True)\n",
    "\n",
    "ica_experiment1 = ica_dataset1.get_experiment(name='color_mix')\n",
    "ica_df1 = ica_experiment1.as_pandas_dataframe()"
   ],
   "metadata": {
    "collapsed": false,
    "ExecuteTime": {
     "end_time": "2024-06-17T10:15:10.561842Z",
     "start_time": "2024-06-17T10:15:10.526342Z"
    }
   }
  },
  {
   "cell_type": "code",
   "execution_count": 11,
   "outputs": [
    {
     "data": {
      "text/plain": "         timestamp    config  counter  flag  intervention    red  green  \\\n0     20969.269894  standard      0.0   0.0           1.0  152.0  255.0   \n1     20969.396700  standard      1.0   0.0           1.0  153.0  255.0   \n2     20969.523702  standard      2.0   0.0           1.0  153.0  255.0   \n3     20969.650758  standard      3.0   0.0           1.0  153.0  255.0   \n4     20969.777684  standard      4.0   0.0           1.0  153.0  255.0   \n...            ...       ...      ...   ...           ...    ...    ...   \n9995  22219.558586  standard   9995.0   0.0           1.0   91.0    0.0   \n9996  22219.682434  standard   9996.0   0.0           1.0   91.0    0.0   \n9997  22219.806029  standard   9997.0   0.0           1.0   91.0    0.0   \n9998  22219.931040  standard   9998.0   0.0           1.0   90.0    0.0   \n9999  22220.055832  standard   9999.0   0.0           1.0   90.0    0.0   \n\n       blue  osr_c  v_c  ...  diode_vis_3  t_ir_1  t_vis_1  t_ir_2  t_vis_2  \\\n0      25.0    1.0  5.0  ...          1.0     3.0      3.0     3.0      3.0   \n1      25.0    1.0  5.0  ...          1.0     3.0      3.0     3.0      3.0   \n2      25.0    1.0  5.0  ...          1.0     3.0      3.0     3.0      3.0   \n3      26.0    1.0  5.0  ...          1.0     3.0      3.0     3.0      3.0   \n4      26.0    1.0  5.0  ...          1.0     3.0      3.0     3.0      3.0   \n...     ...    ...  ...  ...          ...     ...      ...     ...      ...   \n9995  254.0    1.0  5.0  ...          1.0     3.0      3.0     3.0      3.0   \n9996  254.0    1.0  5.0  ...          1.0     3.0      3.0     3.0      3.0   \n9997  254.0    1.0  5.0  ...          1.0     3.0      3.0     3.0      3.0   \n9998  254.0    1.0  5.0  ...          1.0     3.0      3.0     3.0      3.0   \n9999    0.0    1.0  5.0  ...          1.0     3.0      3.0     3.0      3.0   \n\n      t_ir_3  t_vis_3  camera  v_board  v_reg  \n0        3.0      3.0     0.0   1023.0  699.0  \n1        3.0      3.0     0.0   1023.0  862.0  \n2        3.0      3.0     0.0   1023.0  931.0  \n3        3.0      3.0     0.0   1023.0  963.0  \n4        3.0      3.0     0.0   1023.0  978.0  \n...      ...      ...     ...      ...    ...  \n9995     3.0      3.0     0.0   1023.0  990.0  \n9996     3.0      3.0     0.0   1023.0  991.0  \n9997     3.0      3.0     0.0   1023.0  990.0  \n9998     3.0      3.0     0.0   1023.0  990.0  \n9999     3.0      3.0     0.0   1023.0  990.0  \n\n[10000 rows x 46 columns]",
      "text/html": "<div>\n<style scoped>\n    .dataframe tbody tr th:only-of-type {\n        vertical-align: middle;\n    }\n\n    .dataframe tbody tr th {\n        vertical-align: top;\n    }\n\n    .dataframe thead th {\n        text-align: right;\n    }\n</style>\n<table border=\"1\" class=\"dataframe\">\n  <thead>\n    <tr style=\"text-align: right;\">\n      <th></th>\n      <th>timestamp</th>\n      <th>config</th>\n      <th>counter</th>\n      <th>flag</th>\n      <th>intervention</th>\n      <th>red</th>\n      <th>green</th>\n      <th>blue</th>\n      <th>osr_c</th>\n      <th>v_c</th>\n      <th>...</th>\n      <th>diode_vis_3</th>\n      <th>t_ir_1</th>\n      <th>t_vis_1</th>\n      <th>t_ir_2</th>\n      <th>t_vis_2</th>\n      <th>t_ir_3</th>\n      <th>t_vis_3</th>\n      <th>camera</th>\n      <th>v_board</th>\n      <th>v_reg</th>\n    </tr>\n  </thead>\n  <tbody>\n    <tr>\n      <th>0</th>\n      <td>20969.269894</td>\n      <td>standard</td>\n      <td>0.0</td>\n      <td>0.0</td>\n      <td>1.0</td>\n      <td>152.0</td>\n      <td>255.0</td>\n      <td>25.0</td>\n      <td>1.0</td>\n      <td>5.0</td>\n      <td>...</td>\n      <td>1.0</td>\n      <td>3.0</td>\n      <td>3.0</td>\n      <td>3.0</td>\n      <td>3.0</td>\n      <td>3.0</td>\n      <td>3.0</td>\n      <td>0.0</td>\n      <td>1023.0</td>\n      <td>699.0</td>\n    </tr>\n    <tr>\n      <th>1</th>\n      <td>20969.396700</td>\n      <td>standard</td>\n      <td>1.0</td>\n      <td>0.0</td>\n      <td>1.0</td>\n      <td>153.0</td>\n      <td>255.0</td>\n      <td>25.0</td>\n      <td>1.0</td>\n      <td>5.0</td>\n      <td>...</td>\n      <td>1.0</td>\n      <td>3.0</td>\n      <td>3.0</td>\n      <td>3.0</td>\n      <td>3.0</td>\n      <td>3.0</td>\n      <td>3.0</td>\n      <td>0.0</td>\n      <td>1023.0</td>\n      <td>862.0</td>\n    </tr>\n    <tr>\n      <th>2</th>\n      <td>20969.523702</td>\n      <td>standard</td>\n      <td>2.0</td>\n      <td>0.0</td>\n      <td>1.0</td>\n      <td>153.0</td>\n      <td>255.0</td>\n      <td>25.0</td>\n      <td>1.0</td>\n      <td>5.0</td>\n      <td>...</td>\n      <td>1.0</td>\n      <td>3.0</td>\n      <td>3.0</td>\n      <td>3.0</td>\n      <td>3.0</td>\n      <td>3.0</td>\n      <td>3.0</td>\n      <td>0.0</td>\n      <td>1023.0</td>\n      <td>931.0</td>\n    </tr>\n    <tr>\n      <th>3</th>\n      <td>20969.650758</td>\n      <td>standard</td>\n      <td>3.0</td>\n      <td>0.0</td>\n      <td>1.0</td>\n      <td>153.0</td>\n      <td>255.0</td>\n      <td>26.0</td>\n      <td>1.0</td>\n      <td>5.0</td>\n      <td>...</td>\n      <td>1.0</td>\n      <td>3.0</td>\n      <td>3.0</td>\n      <td>3.0</td>\n      <td>3.0</td>\n      <td>3.0</td>\n      <td>3.0</td>\n      <td>0.0</td>\n      <td>1023.0</td>\n      <td>963.0</td>\n    </tr>\n    <tr>\n      <th>4</th>\n      <td>20969.777684</td>\n      <td>standard</td>\n      <td>4.0</td>\n      <td>0.0</td>\n      <td>1.0</td>\n      <td>153.0</td>\n      <td>255.0</td>\n      <td>26.0</td>\n      <td>1.0</td>\n      <td>5.0</td>\n      <td>...</td>\n      <td>1.0</td>\n      <td>3.0</td>\n      <td>3.0</td>\n      <td>3.0</td>\n      <td>3.0</td>\n      <td>3.0</td>\n      <td>3.0</td>\n      <td>0.0</td>\n      <td>1023.0</td>\n      <td>978.0</td>\n    </tr>\n    <tr>\n      <th>...</th>\n      <td>...</td>\n      <td>...</td>\n      <td>...</td>\n      <td>...</td>\n      <td>...</td>\n      <td>...</td>\n      <td>...</td>\n      <td>...</td>\n      <td>...</td>\n      <td>...</td>\n      <td>...</td>\n      <td>...</td>\n      <td>...</td>\n      <td>...</td>\n      <td>...</td>\n      <td>...</td>\n      <td>...</td>\n      <td>...</td>\n      <td>...</td>\n      <td>...</td>\n      <td>...</td>\n    </tr>\n    <tr>\n      <th>9995</th>\n      <td>22219.558586</td>\n      <td>standard</td>\n      <td>9995.0</td>\n      <td>0.0</td>\n      <td>1.0</td>\n      <td>91.0</td>\n      <td>0.0</td>\n      <td>254.0</td>\n      <td>1.0</td>\n      <td>5.0</td>\n      <td>...</td>\n      <td>1.0</td>\n      <td>3.0</td>\n      <td>3.0</td>\n      <td>3.0</td>\n      <td>3.0</td>\n      <td>3.0</td>\n      <td>3.0</td>\n      <td>0.0</td>\n      <td>1023.0</td>\n      <td>990.0</td>\n    </tr>\n    <tr>\n      <th>9996</th>\n      <td>22219.682434</td>\n      <td>standard</td>\n      <td>9996.0</td>\n      <td>0.0</td>\n      <td>1.0</td>\n      <td>91.0</td>\n      <td>0.0</td>\n      <td>254.0</td>\n      <td>1.0</td>\n      <td>5.0</td>\n      <td>...</td>\n      <td>1.0</td>\n      <td>3.0</td>\n      <td>3.0</td>\n      <td>3.0</td>\n      <td>3.0</td>\n      <td>3.0</td>\n      <td>3.0</td>\n      <td>0.0</td>\n      <td>1023.0</td>\n      <td>991.0</td>\n    </tr>\n    <tr>\n      <th>9997</th>\n      <td>22219.806029</td>\n      <td>standard</td>\n      <td>9997.0</td>\n      <td>0.0</td>\n      <td>1.0</td>\n      <td>91.0</td>\n      <td>0.0</td>\n      <td>254.0</td>\n      <td>1.0</td>\n      <td>5.0</td>\n      <td>...</td>\n      <td>1.0</td>\n      <td>3.0</td>\n      <td>3.0</td>\n      <td>3.0</td>\n      <td>3.0</td>\n      <td>3.0</td>\n      <td>3.0</td>\n      <td>0.0</td>\n      <td>1023.0</td>\n      <td>990.0</td>\n    </tr>\n    <tr>\n      <th>9998</th>\n      <td>22219.931040</td>\n      <td>standard</td>\n      <td>9998.0</td>\n      <td>0.0</td>\n      <td>1.0</td>\n      <td>90.0</td>\n      <td>0.0</td>\n      <td>254.0</td>\n      <td>1.0</td>\n      <td>5.0</td>\n      <td>...</td>\n      <td>1.0</td>\n      <td>3.0</td>\n      <td>3.0</td>\n      <td>3.0</td>\n      <td>3.0</td>\n      <td>3.0</td>\n      <td>3.0</td>\n      <td>0.0</td>\n      <td>1023.0</td>\n      <td>990.0</td>\n    </tr>\n    <tr>\n      <th>9999</th>\n      <td>22220.055832</td>\n      <td>standard</td>\n      <td>9999.0</td>\n      <td>0.0</td>\n      <td>1.0</td>\n      <td>90.0</td>\n      <td>0.0</td>\n      <td>0.0</td>\n      <td>1.0</td>\n      <td>5.0</td>\n      <td>...</td>\n      <td>1.0</td>\n      <td>3.0</td>\n      <td>3.0</td>\n      <td>3.0</td>\n      <td>3.0</td>\n      <td>3.0</td>\n      <td>3.0</td>\n      <td>0.0</td>\n      <td>1023.0</td>\n      <td>990.0</td>\n    </tr>\n  </tbody>\n</table>\n<p>10000 rows × 46 columns</p>\n</div>"
     },
     "execution_count": 11,
     "metadata": {},
     "output_type": "execute_result"
    }
   ],
   "source": [
    "ica_df1"
   ],
   "metadata": {
    "collapsed": false,
    "ExecuteTime": {
     "end_time": "2024-06-17T10:15:16.973221Z",
     "start_time": "2024-06-17T10:15:16.961471Z"
    }
   }
  },
  {
   "cell_type": "code",
   "execution_count": null,
   "outputs": [],
   "source": [],
   "metadata": {
    "collapsed": false
   }
  }
 ],
 "metadata": {
  "kernelspec": {
   "display_name": "Python 3",
   "language": "python",
   "name": "python3"
  },
  "language_info": {
   "codemirror_mode": {
    "name": "ipython",
    "version": 2
   },
   "file_extension": ".py",
   "mimetype": "text/x-python",
   "name": "python",
   "nbconvert_exporter": "python",
   "pygments_lexer": "ipython2",
   "version": "2.7.6"
  }
 },
 "nbformat": 4,
 "nbformat_minor": 0
}
