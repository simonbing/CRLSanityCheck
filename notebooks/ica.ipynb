{
 "cells": [
  {
   "cell_type": "code",
   "execution_count": 1,
   "metadata": {
    "collapsed": true,
    "ExecuteTime": {
     "end_time": "2024-06-17T13:59:10.813653Z",
     "start_time": "2024-06-17T13:59:10.044714Z"
    }
   },
   "outputs": [
    {
     "name": "stdout",
     "output_type": "stream",
     "text": [
      "\n",
      "Fetching list of available datasets from https://causalchamber.s3.eu-central-1.amazonaws.com/downloadables/directory.yaml ... done.\n",
      "If you use our datasets or models for your work please consider citing:\n",
      "\n",
      "@article{gamella2024chamber,\n",
      "  title={The Causal Chambers: Real Physical Systems as a Testbed for AI Methodology},\n",
      "  author={Gamella, Juan L. and B\"uhlmann, Peter and Peters, Jonas},\n",
      "  journal={arXiv preprint arXiv:2404.11341},\n",
      "  year={2024}\n",
      "}\n",
      "\n"
     ]
    }
   ],
   "source": [
    "import numpy as np\n",
    "\n",
    "from causalchamber.datasets import Dataset\n",
    "from crc.eval import compute_MCC\n",
    "from scipy import stats\n",
    "from sklearn.decomposition import FastICA"
   ]
  },
  {
   "cell_type": "code",
   "execution_count": 2,
   "outputs": [],
   "source": [
    "# Reproducibility\n",
    "seed = 0\n",
    "rs = np.random.RandomState(seed=seed)"
   ],
   "metadata": {
    "collapsed": false,
    "ExecuteTime": {
     "end_time": "2024-06-17T13:59:12.735503Z",
     "start_time": "2024-06-17T13:59:12.731706Z"
    }
   }
  },
  {
   "cell_type": "code",
   "execution_count": 3,
   "outputs": [
    {
     "name": "stdout",
     "output_type": "stream",
     "text": [
      "Dataset lt_walks_v1 found in \"../data/chamber_downloads/lt_walks_v1\".\n"
     ]
    }
   ],
   "source": [
    "ica_dataset1 = Dataset('lt_walks_v1', root='../data/chamber_downloads', download=True)\n",
    "\n",
    "ica_experiment1 = ica_dataset1.get_experiment(name='color_mix')\n",
    "ica_df1 = ica_experiment1.as_pandas_dataframe()\n",
    "\n",
    "ica_sources1 = ica_df1[[\"red\", \"green\", \"blue\"]].to_numpy()\n",
    "ica_mixtures1 = ica_df1[[\"ir_1\", \"ir_2\", \"ir_3\", \"vis_1\", \"vis_2\", \"vis_3\"]].to_numpy()"
   ],
   "metadata": {
    "collapsed": false,
    "ExecuteTime": {
     "end_time": "2024-06-17T13:59:14.777787Z",
     "start_time": "2024-06-17T13:59:14.740859Z"
    }
   }
  },
  {
   "cell_type": "code",
   "execution_count": 5,
   "outputs": [],
   "source": [
    "# Try both: use all components and take those with highest correlation, or directly use n_ground_truth components\n",
    "ica1 = FastICA(whiten_solver=\"eigh\", random_state=rs)\n",
    "ica_tf1 = ica1.fit_transform(ica_mixtures1)"
   ],
   "metadata": {
    "collapsed": false,
    "ExecuteTime": {
     "end_time": "2024-06-17T13:59:26.263182Z",
     "start_time": "2024-06-17T13:59:26.217005Z"
    }
   }
  },
  {
   "cell_type": "code",
   "execution_count": 6,
   "outputs": [],
   "source": [
    "# Get components with highest correlation with gt\n",
    "gt_latent_dim = ica_sources1.shape[1]\n",
    "tf_latent_dim = ica_tf1.shape[1]\n",
    "\n",
    "max_corr_tf_list = []\n",
    "for i in range(gt_latent_dim):\n",
    "    corr_list = np.empty(tf_latent_dim)\n",
    "    for j in range(tf_latent_dim):\n",
    "        corr_list[j] = stats.pearsonr(ica_sources1[:, i], ica_tf1[:, j]).statistic\n",
    "    max_corr_tf_list.append(ica_tf1[:, np.argmax(corr_list)])\n",
    "ica_tf_max_corr1 = np.vstack(max_corr_tf_list).T"
   ],
   "metadata": {
    "collapsed": false,
    "ExecuteTime": {
     "end_time": "2024-06-17T13:59:29.190567Z",
     "start_time": "2024-06-17T13:59:29.171323Z"
    }
   }
  },
  {
   "cell_type": "code",
   "execution_count": 7,
   "outputs": [
    {
     "name": "stdout",
     "output_type": "stream",
     "text": [
      "MCC score (with max corr. selection): 84.67\n"
     ]
    }
   ],
   "source": [
    "mcc1 = compute_MCC(ica_tf_max_corr1, ica_sources1, batch_size=10000)\n",
    "print(F'MCC score (with max corr. selection): {np.mean(mcc1):.2f}')"
   ],
   "metadata": {
    "collapsed": false,
    "ExecuteTime": {
     "end_time": "2024-06-17T13:59:29.611328Z",
     "start_time": "2024-06-17T13:59:29.606807Z"
    }
   }
  },
  {
   "cell_type": "code",
   "execution_count": 8,
   "outputs": [],
   "source": [
    "ica2 = FastICA(n_components=ica_sources1.shape[1], whiten_solver=\"eigh\", random_state=rs)\n",
    "ica_tf2 = ica2.fit_transform(ica_mixtures1)"
   ],
   "metadata": {
    "collapsed": false,
    "ExecuteTime": {
     "end_time": "2024-06-17T13:59:30.468459Z",
     "start_time": "2024-06-17T13:59:30.463836Z"
    }
   }
  },
  {
   "cell_type": "code",
   "execution_count": 9,
   "outputs": [
    {
     "name": "stdout",
     "output_type": "stream",
     "text": [
      "MCC score (with 3 components): 70.26\n"
     ]
    }
   ],
   "source": [
    "mcc2 = compute_MCC(ica_tf2, ica_sources1, batch_size=10000)\n",
    "print(F'MCC score (with 3 components): {np.mean(mcc2):.2f}')"
   ],
   "metadata": {
    "collapsed": false,
    "ExecuteTime": {
     "end_time": "2024-06-17T13:59:30.658176Z",
     "start_time": "2024-06-17T13:59:30.654557Z"
    }
   }
  },
  {
   "cell_type": "code",
   "execution_count": 24,
   "outputs": [
    {
     "name": "stdout",
     "output_type": "stream",
     "text": [
      "Dataset wt_walks_v1 found in \"../data/chamber_downloads/wt_walks_v1\".\n"
     ]
    }
   ],
   "source": [
    "# Wt (L_in, L_out, H) -> P (nonlinear)\n",
    "ica_dataset2 = Dataset('wt_walks_v1', root='../data/chamber_downloads', download=True)\n",
    "\n",
    "ica_experiment2 = ica_dataset2.get_experiment(name='loads_hatch_mix_slow_run_1')\n",
    "ica_df2 = ica_experiment2.as_pandas_dataframe()\n",
    "\n",
    "ica_sources2 = ica_df2[[\"load_in\", \"load_out\", \"hatch\"]].to_numpy()\n",
    "ica_mixtures2 = ica_df2[[\"pressure_upwind\", \"pressure_downwind\", \"pressure_intake\", 'pressure_ambient']].to_numpy()"
   ],
   "metadata": {
    "collapsed": false,
    "ExecuteTime": {
     "end_time": "2024-06-17T14:17:15.249895Z",
     "start_time": "2024-06-17T14:17:15.172434Z"
    }
   }
  },
  {
   "cell_type": "code",
   "execution_count": 25,
   "outputs": [],
   "source": [
    "ica2 = FastICA(whiten_solver=\"eigh\", random_state=rs)\n",
    "ica_tf2 = ica2.fit_transform(ica_mixtures2)"
   ],
   "metadata": {
    "collapsed": false,
    "ExecuteTime": {
     "end_time": "2024-06-17T14:17:19.617116Z",
     "start_time": "2024-06-17T14:17:19.608296Z"
    }
   }
  },
  {
   "cell_type": "code",
   "execution_count": 29,
   "outputs": [],
   "source": [
    "# Get components with highest correlation with gt\n",
    "gt_latent_dim = ica_sources2.shape[1]\n",
    "tf_latent_dim = ica_tf2.shape[1]\n",
    "\n",
    "max_corr_tf_list = []\n",
    "for i in range(gt_latent_dim):\n",
    "    corr_list = np.empty(tf_latent_dim)\n",
    "    for j in range(tf_latent_dim):\n",
    "        corr_list[j] = stats.pearsonr(ica_sources2[:, i], ica_tf2[:, j]).statistic\n",
    "    max_corr_tf_list.append(ica_tf2[:, np.argmax(corr_list)])\n",
    "ica_tf_max_corr2 = np.vstack(max_corr_tf_list).T"
   ],
   "metadata": {
    "collapsed": false,
    "ExecuteTime": {
     "end_time": "2024-06-17T14:18:09.936933Z",
     "start_time": "2024-06-17T14:18:09.925076Z"
    }
   }
  },
  {
   "cell_type": "code",
   "execution_count": 30,
   "outputs": [
    {
     "name": "stdout",
     "output_type": "stream",
     "text": [
      "MCC score (with max corr. selection): 60.53\n"
     ]
    }
   ],
   "source": [
    "mcc2 = compute_MCC(ica_tf_max_corr2, ica_sources2, batch_size=10000)\n",
    "print(F'MCC score (with max corr. selection): {np.mean(mcc2):.2f}')"
   ],
   "metadata": {
    "collapsed": false,
    "ExecuteTime": {
     "end_time": "2024-06-17T14:18:24.762582Z",
     "start_time": "2024-06-17T14:18:24.758347Z"
    }
   }
  },
  {
   "cell_type": "code",
   "execution_count": null,
   "outputs": [],
   "source": [
    "# Nonlinear ICA (use some time series approach!)"
   ],
   "metadata": {
    "collapsed": false
   }
  }
 ],
 "metadata": {
  "kernelspec": {
   "display_name": "Python 3",
   "language": "python",
   "name": "python3"
  },
  "language_info": {
   "codemirror_mode": {
    "name": "ipython",
    "version": 2
   },
   "file_extension": ".py",
   "mimetype": "text/x-python",
   "name": "python",
   "nbconvert_exporter": "python",
   "pygments_lexer": "ipython2",
   "version": "2.7.6"
  }
 },
 "nbformat": 4,
 "nbformat_minor": 0
}
