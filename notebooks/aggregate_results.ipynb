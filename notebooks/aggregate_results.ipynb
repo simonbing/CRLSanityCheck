{
 "cells": [
  {
   "cell_type": "code",
   "execution_count": 24,
   "metadata": {
    "collapsed": true,
    "ExecuteTime": {
     "end_time": "2024-08-27T15:24:01.922907Z",
     "start_time": "2024-08-27T15:24:01.787236Z"
    }
   },
   "outputs": [],
   "source": [
    "import os\n",
    "import json\n",
    "\n",
    "import numpy as np\n",
    "import pandas as pd"
   ]
  },
  {
   "cell_type": "code",
   "execution_count": 17,
   "outputs": [],
   "source": [
    "root_dir = '/Users/Simon/Documents/PhD/Projects/CausalRepresentationChambers/results'"
   ],
   "metadata": {
    "collapsed": false,
    "ExecuteTime": {
     "end_time": "2024-08-27T15:13:48.092878Z",
     "start_time": "2024-08-27T15:13:48.090047Z"
    }
   }
  },
  {
   "cell_type": "code",
   "execution_count": 27,
   "outputs": [],
   "source": [
    "model = 'contrast_crl'\n",
    "dataset = 'contrast_synth'\n",
    "experiment = 'seed_0'\n",
    "run_name = 'synth_test_1'\n",
    "\n",
    "base_path = os.path.join(root_dir, dataset, experiment, model, run_name)\n",
    "\n",
    "seeds = [42]\n",
    "\n",
    "save = True"
   ],
   "metadata": {
    "collapsed": false,
    "ExecuteTime": {
     "end_time": "2024-08-27T15:26:12.000587Z",
     "start_time": "2024-08-27T15:26:11.996978Z"
    }
   }
  },
  {
   "cell_type": "code",
   "execution_count": 19,
   "outputs": [],
   "source": [
    "agg_results = {'seeds': seeds}"
   ],
   "metadata": {
    "collapsed": false,
    "ExecuteTime": {
     "end_time": "2024-08-27T15:13:57.810756Z",
     "start_time": "2024-08-27T15:13:57.807812Z"
    }
   }
  },
  {
   "cell_type": "code",
   "execution_count": 22,
   "outputs": [],
   "source": [
    "for i, seed in enumerate(seeds):\n",
    "    results_path = os.path.join(base_path, f'seed_{seed}', 'eval', 'results.json')\n",
    "    with open(results_path) as results_file:\n",
    "        results = json.load(results_file)\n",
    "\n",
    "    for key in results:\n",
    "        # First step; make corresponding entry in agg_results\n",
    "        if i == 0:\n",
    "            agg_results[key] = [results[key]]\n",
    "        else:\n",
    "            agg_results[key].append(results[key])\n"
   ],
   "metadata": {
    "collapsed": false,
    "ExecuteTime": {
     "end_time": "2024-08-27T15:23:32.351571Z",
     "start_time": "2024-08-27T15:23:32.348444Z"
    }
   }
  },
  {
   "cell_type": "code",
   "execution_count": 15,
   "outputs": [
    {
     "name": "stdout",
     "output_type": "stream",
     "text": [
      "MCC: 0.559 ± 0.000\n",
      "SHD: 5.000 ± 0.000\n",
      "SHD opt: 5.000 ± 0.000\n",
      "SHD edge match: 8.000 ± 0.000\n",
      "SHD perm: 5.000 ± 0.000\n",
      "SHD opt perm: 5.000 ± 0.000\n",
      "SHD edge match perm: 8.000 ± 0.000\n"
     ]
    }
   ],
   "source": [
    "# Print results\n",
    "print(f'MCC: {np.mean(mcc):.3f} ± {np.std(mcc):.3f}')\n",
    "print(f'SHD: {np.mean(shd):.3f} ± {np.std(shd):.3f}')\n",
    "print(f'SHD opt: {np.mean(shd_opt):.3f} ± {np.std(shd_opt):.3f}')\n",
    "print(f'SHD edge match: {np.mean(shd_edge_match):.3f} ± {np.std(shd_edge_match):.3f}')\n",
    "print(f'SHD perm: {np.mean(shd_perm):.3f} ± {np.std(shd_perm):.3f}')\n",
    "print(f'SHD opt perm: {np.mean(shd_opt_perm):.3f} ± {np.std(shd_opt_perm):.3f}')\n",
    "print(f'SHD edge match perm: {np.mean(shd_edge_match_perm):.3f} ± {np.std(shd_edge_match_perm):.3f}')"
   ],
   "metadata": {
    "collapsed": false,
    "ExecuteTime": {
     "end_time": "2024-08-26T15:31:52.727280Z",
     "start_time": "2024-08-26T15:31:52.721531Z"
    }
   }
  },
  {
   "cell_type": "code",
   "execution_count": 28,
   "outputs": [],
   "source": [
    "agg_results_df = pd.DataFrame(data=agg_results)\n",
    "\n",
    "if save:\n",
    "    save_path = os.path.join(base_path, 'agg_reults.pkl')\n",
    "    agg_results_df.to_pickle(save_path)"
   ],
   "metadata": {
    "collapsed": false,
    "ExecuteTime": {
     "end_time": "2024-08-27T15:30:13.168269Z",
     "start_time": "2024-08-27T15:30:13.163740Z"
    }
   }
  },
  {
   "cell_type": "code",
   "execution_count": 26,
   "outputs": [
    {
     "data": {
      "text/plain": "   seeds       mcc  SHD  TPR  FPR  FDR  SHD_opt  FPR_opt  FDR_opt  TPR_opt  \\\n0     42  0.558875    5  0.0  0.0    0        5      0.0        0      0.0   \n\n   opt_thresh  SHD_edge_matched  FPR_edge_matched  FDR_edge_matched  \\\n0       0.005                 8          0.266667               0.8   \n\n   TPR_edge_matched  edge_thresh     auroc  SHD_perm  SHD_opt_perm  \\\n0               0.2        0.005  0.413333         5             5   \n\n   SHD_edge_matched_perm  \n0                      8  ",
      "text/html": "<div>\n<style scoped>\n    .dataframe tbody tr th:only-of-type {\n        vertical-align: middle;\n    }\n\n    .dataframe tbody tr th {\n        vertical-align: top;\n    }\n\n    .dataframe thead th {\n        text-align: right;\n    }\n</style>\n<table border=\"1\" class=\"dataframe\">\n  <thead>\n    <tr style=\"text-align: right;\">\n      <th></th>\n      <th>seeds</th>\n      <th>mcc</th>\n      <th>SHD</th>\n      <th>TPR</th>\n      <th>FPR</th>\n      <th>FDR</th>\n      <th>SHD_opt</th>\n      <th>FPR_opt</th>\n      <th>FDR_opt</th>\n      <th>TPR_opt</th>\n      <th>opt_thresh</th>\n      <th>SHD_edge_matched</th>\n      <th>FPR_edge_matched</th>\n      <th>FDR_edge_matched</th>\n      <th>TPR_edge_matched</th>\n      <th>edge_thresh</th>\n      <th>auroc</th>\n      <th>SHD_perm</th>\n      <th>SHD_opt_perm</th>\n      <th>SHD_edge_matched_perm</th>\n    </tr>\n  </thead>\n  <tbody>\n    <tr>\n      <th>0</th>\n      <td>42</td>\n      <td>0.558875</td>\n      <td>5</td>\n      <td>0.0</td>\n      <td>0.0</td>\n      <td>0</td>\n      <td>5</td>\n      <td>0.0</td>\n      <td>0</td>\n      <td>0.0</td>\n      <td>0.005</td>\n      <td>8</td>\n      <td>0.266667</td>\n      <td>0.8</td>\n      <td>0.2</td>\n      <td>0.005</td>\n      <td>0.413333</td>\n      <td>5</td>\n      <td>5</td>\n      <td>8</td>\n    </tr>\n  </tbody>\n</table>\n</div>"
     },
     "execution_count": 26,
     "metadata": {},
     "output_type": "execute_result"
    }
   ],
   "source": [
    "agg_results_df"
   ],
   "metadata": {
    "collapsed": false,
    "ExecuteTime": {
     "end_time": "2024-08-27T15:25:34.737121Z",
     "start_time": "2024-08-27T15:25:34.730771Z"
    }
   }
  },
  {
   "cell_type": "code",
   "execution_count": null,
   "outputs": [],
   "source": [],
   "metadata": {
    "collapsed": false
   }
  }
 ],
 "metadata": {
  "kernelspec": {
   "display_name": "Python 3",
   "language": "python",
   "name": "python3"
  },
  "language_info": {
   "codemirror_mode": {
    "name": "ipython",
    "version": 2
   },
   "file_extension": ".py",
   "mimetype": "text/x-python",
   "name": "python",
   "nbconvert_exporter": "python",
   "pygments_lexer": "ipython2",
   "version": "2.7.6"
  }
 },
 "nbformat": 4,
 "nbformat_minor": 0
}
